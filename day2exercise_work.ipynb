{
 "cells": [
  {
   "cell_type": "code",
   "execution_count": 30,
   "id": "7b3bc8bd-65a5-47e2-b57d-dd353a496cfc",
   "metadata": {},
   "outputs": [],
   "source": [
    "# imports\n",
    "\n",
    "import requests\n",
    "from bs4 import BeautifulSoup\n",
    "from IPython.display import Markdown, display"
   ]
  },
  {
   "cell_type": "code",
   "execution_count": 31,
   "id": "fa2f7585-2a5a-4b14-ba9b-15dea48b3279",
   "metadata": {},
   "outputs": [],
   "source": [
    "# Constants\n",
    "\n",
    "OLLAMA_API = \"http://localhost:11434/api/chat\"\n",
    "HEADERS = {\"Content-Type\": \"application/json\"}\n",
    "MODEL = \"llama3.2\""
   ]
  },
  {
   "cell_type": "code",
   "execution_count": 34,
   "id": "3914c1d9-7ea5-44b9-b9b7-6e843823538b",
   "metadata": {},
   "outputs": [
    {
     "name": "stdout",
     "output_type": "stream",
     "text": [
      "\u001b[?25lpulling manifest ⠋ \u001b[?25h\u001b[?25l\u001b[2K\u001b[1Gpulling manifest ⠙ \u001b[?25h\u001b[?25l\u001b[2K\u001b[1Gpulling manifest ⠹ \u001b[?25h\u001b[?25l\u001b[2K\u001b[1Gpulling manifest ⠸ \u001b[?25h\u001b[?25l\u001b[2K\u001b[1Gpulling manifest \n",
      "pulling dde5aa3fc5ff... 100% ▕████████████████▏ 2.0 GB                         \n",
      "pulling 966de95ca8a6... 100% ▕████████████████▏ 1.4 KB                         \n",
      "pulling fcc5a6bec9da... 100% ▕████████████████▏ 7.7 KB                         \n",
      "pulling a70ff7e570d9... 100% ▕████████████████▏ 6.0 KB                         \n",
      "pulling 56bb8bd477a5... 100% ▕████████████████▏   96 B                         \n",
      "pulling 34bb5ab01051... 100% ▕████████████████▏  561 B                         \n",
      "verifying sha256 digest \n",
      "writing manifest \n",
      "success \u001b[?25h\n"
     ]
    }
   ],
   "source": [
    "# Let's just make sure the model is loaded\n",
    "\n",
    "!ollama pull llama3.2"
   ]
  },
  {
   "cell_type": "markdown",
   "id": "a4a41f2b-4940-482b-a954-21b7c5ba9d44",
   "metadata": {},
   "source": [
    "EXERCISE - 1\n",
    "\n",
    "create a summarization using ollama"
   ]
  },
  {
   "cell_type": "code",
   "execution_count": 39,
   "id": "5a974e72-dd4a-4e98-ba4d-6b6b81690271",
   "metadata": {},
   "outputs": [],
   "source": [
    "OLLAMA_API = \"http://localhost:11434/api/chat\"\n",
    "HEADERS = {\"Content-Type\": \"application/json\"}\n",
    "MODEL = \"llama3.2\""
   ]
  },
  {
   "cell_type": "code",
   "execution_count": 40,
   "id": "d8932f26-5a8c-43de-8b4e-c0e07599dc21",
   "metadata": {},
   "outputs": [],
   "source": [
    "# headers = {\n",
    "#  \"User-Agent\": \"Mozilla/5.0 (Windows NT 10.0; Win64; x64) AppleWebKit/537.36 (KHTML, like Gecko) Chrome/117.0.0.0 Safari/537.36\"\n",
    "# }\n",
    "\n",
    "class Website:\n",
    "\n",
    "    def __init__(self, url):\n",
    "        \"\"\"\n",
    "        Create this Website object from the given url using the BeautifulSoup library\n",
    "        \"\"\"\n",
    "        self.url = url\n",
    "        response = requests.get(url, headers=headers)\n",
    "        soup = BeautifulSoup(response.content, 'html.parser')\n",
    "        self.title = soup.title.string if soup.title else \"No title found\"\n",
    "        for irrelevant in soup.body([\"script\", \"style\", \"img\", \"input\"]):\n",
    "            irrelevant.decompose()\n",
    "        self.text = soup.body.get_text(separator=\"\\n\", strip=True)"
   ]
  },
  {
   "cell_type": "code",
   "execution_count": 41,
   "id": "b72c26da-f582-4123-af52-a19b446a4a9f",
   "metadata": {},
   "outputs": [],
   "source": [
    "def user_prompt_for(website):\n",
    "    user_prompt = \"You are an assistant that analyzes the contents of a website \\\n",
    "and provides a short summary, ignoring text that might be navigation related. \\\n",
    "Respond in markdown.\\n \\n\"\n",
    "    user_prompt += f\"You are looking at a website titled {website.title}\"\n",
    "    user_prompt += \"\\n\\nThe contents of this website is as follows; \\\n",
    "please provide a short summary of this website in markdown. \\\n",
    "If it includes news or announcements, then summarize these too.\\n\\n\"\n",
    "    user_prompt += website.text\n",
    "    return user_prompt"
   ]
  },
  {
   "cell_type": "code",
   "execution_count": 42,
   "id": "c5d65e1d-f832-440c-97ab-4700dec08c20",
   "metadata": {},
   "outputs": [],
   "source": [
    "def summarize(url):\n",
    "    # Create a Website object for the given URL\n",
    "    website = Website(url)\n",
    "    \n",
    "    # Dynamically generate the user prompt based on the website content\n",
    "    user_prompt = user_prompt_for(website)\n",
    "    \n",
    "    # Prepare the payload with the generated prompt\n",
    "    payload = {\n",
    "        \"model\": MODEL,\n",
    "        \"messages\": [{\"role\": \"user\", \"content\": user_prompt}],\n",
    "        \"stream\": False\n",
    "    }\n",
    "    \n",
    "    # Make the API request\n",
    "    response = requests.post(OLLAMA_API, json=payload, headers=HEADERS)\n",
    "    \n",
    "    # Return the summary from the response\n",
    "    return response.json().get('message', {}).get('content', \"No content found.\")\n"
   ]
  },
  {
   "cell_type": "code",
   "execution_count": 43,
   "id": "374cbb5e-e375-41b6-88df-f2e2acdf11b2",
   "metadata": {},
   "outputs": [],
   "source": [
    "# A function to display this nicely in the Jupyter output, using markdown\n",
    "\n",
    "def display_summary(url):\n",
    "    summary = summarize(url)\n",
    "    display(Markdown(summary))"
   ]
  },
  {
   "cell_type": "code",
   "execution_count": 44,
   "id": "1e9b43e9-0239-4bdc-ae39-b12ee226cbd9",
   "metadata": {},
   "outputs": [],
   "source": [
    "web = \"https://www.cmu.edu/iii/graduate-programs/miips/index.html\""
   ]
  },
  {
   "cell_type": "code",
   "execution_count": 46,
   "id": "339d5a97-da73-4b89-a743-fe06a064e074",
   "metadata": {},
   "outputs": [
    {
     "data": {
      "text/markdown": [
       "### Master of Integrated Innovation for Products & Services (MIIPS) Program Summary\n",
       "\n",
       "#### Overview\n",
       "The Master of Integrated Innovation for Products & Services (MIIPS) is a graduate degree program at Carnegie Mellon University's Integrated Innovation Institute. The program focuses on training the next generation of innovators, disruptors, and world changers to tackle industry and societal challenges.\n",
       "\n",
       "#### Key Features\n",
       "\n",
       "*   Two formats: 9-month and 16-month degrees\n",
       "*   Emphasis on cross-functional collaboration between engineering, design, and business\n",
       "*   Ideal for candidates with professional experience or those seeking a career pivot\n",
       "*   Academic experience in engineering, design, and business\n",
       "*   Work experience required for some applicants\n",
       "*   Application deadlines: January 20, 2025\n",
       "\n",
       "#### Program Outcomes\n",
       "\n",
       "*   Median base salary: $112,000\n",
       "*   88% of graduates accepted job offers within six months of graduation\n",
       "*   Graduates work in top cities including San Francisco, New York, and Pittsburgh\n",
       "*   Alumni success stories from Disney, JP Morgan Chase & Co, and PNC Bank\n",
       "\n",
       "#### Corporate Sponsorship\n",
       "\n",
       "*   The program partners with industry sponsors for real-world problems and projects\n",
       "*   Sponsors include Vapotherm, Honda, Canon, and Volvo\n",
       "*   Benefits of corporate sponsorship include access to iii students and the opportunity to shape the future of innovation"
      ],
      "text/plain": [
       "<IPython.core.display.Markdown object>"
      ]
     },
     "metadata": {},
     "output_type": "display_data"
    }
   ],
   "source": [
    "display_summary(web)"
   ]
  },
  {
   "cell_type": "code",
   "execution_count": 14,
   "id": "1d208c5f-81df-4677-a7b3-70ce4acfabfe",
   "metadata": {},
   "outputs": [],
   "source": []
  },
  {
   "cell_type": "code",
   "execution_count": 11,
   "id": "89a22e5e-4fb5-4b08-961b-2f25b9a9a5b7",
   "metadata": {},
   "outputs": [],
   "source": []
  },
  {
   "cell_type": "code",
   "execution_count": null,
   "id": "e694e138-973b-415f-aabb-5e32d7f7bf46",
   "metadata": {},
   "outputs": [],
   "source": []
  },
  {
   "cell_type": "code",
   "execution_count": null,
   "id": "81a4c171-b6a3-4eba-831d-25c9b7c8d732",
   "metadata": {},
   "outputs": [],
   "source": []
  },
  {
   "cell_type": "code",
   "execution_count": null,
   "id": "e891a8b8-a814-418a-9d7b-72e7b73f5991",
   "metadata": {},
   "outputs": [],
   "source": []
  },
  {
   "cell_type": "code",
   "execution_count": null,
   "id": "8755eac0-ce7e-4cc7-bad3-3e421eb06523",
   "metadata": {},
   "outputs": [],
   "source": []
  },
  {
   "cell_type": "code",
   "execution_count": null,
   "id": "12808f48-93aa-422e-822b-aa00689494a5",
   "metadata": {},
   "outputs": [],
   "source": []
  },
  {
   "cell_type": "code",
   "execution_count": null,
   "id": "593f3640-cbec-47e2-b373-b6512ad3745a",
   "metadata": {},
   "outputs": [],
   "source": []
  },
  {
   "cell_type": "code",
   "execution_count": null,
   "id": "51bb9e10-cba1-46ea-a414-43a7c65a1aa3",
   "metadata": {},
   "outputs": [],
   "source": []
  },
  {
   "cell_type": "code",
   "execution_count": null,
   "id": "e40a528b-4aac-4ac9-a065-eca0fe55a8bf",
   "metadata": {},
   "outputs": [],
   "source": []
  },
  {
   "cell_type": "code",
   "execution_count": null,
   "id": "05074e5a-1d84-4ef7-a396-ce790647350e",
   "metadata": {},
   "outputs": [],
   "source": []
  }
 ],
 "metadata": {
  "kernelspec": {
   "display_name": "Python 3 (ipykernel)",
   "language": "python",
   "name": "python3"
  },
  "language_info": {
   "codemirror_mode": {
    "name": "ipython",
    "version": 3
   },
   "file_extension": ".py",
   "mimetype": "text/x-python",
   "name": "python",
   "nbconvert_exporter": "python",
   "pygments_lexer": "ipython3",
   "version": "3.11.11"
  }
 },
 "nbformat": 4,
 "nbformat_minor": 5
}
