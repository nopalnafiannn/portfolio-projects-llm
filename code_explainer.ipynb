{
 "cells": [
  {
   "cell_type": "markdown",
   "id": "fe12c203-e6a6-452c-a655-afb8a03a4ff5",
   "metadata": {},
   "source": [
    "# End of week 1 exercise\n",
    "\n",
    "To demonstrate your familiarity with OpenAI API, and also Ollama, build a tool that takes a technical question,  \n",
    "and responds with an explanation. This is a tool that you will be able to use yourself during the course!"
   ]
  },
  {
   "cell_type": "code",
   "execution_count": 2,
   "id": "c1070317-3ed9-4659-abe3-828943230e03",
   "metadata": {},
   "outputs": [],
   "source": [
    "# imports\n",
    "\n",
    "import os\n",
    "import requests\n",
    "import json\n",
    "from typing import List\n",
    "from dotenv import load_dotenv\n",
    "from IPython.display import Markdown, display, update_display\n",
    "from openai import OpenAI"
   ]
  },
  {
   "cell_type": "code",
   "execution_count": 3,
   "id": "4a456906-915a-4bfd-bb9d-57e505c5093f",
   "metadata": {},
   "outputs": [],
   "source": [
    "# constants\n",
    "MODEL_GPT = 'gpt-4o-mini'\n",
    "MODEL_LLAMA = 'llama3.2'"
   ]
  },
  {
   "cell_type": "code",
   "execution_count": null,
   "id": "a8d7923c-5f28-4c30-8556-342d7c8497c1",
   "metadata": {},
   "outputs": [],
   "source": [
    "# set up environment"
   ]
  },
  {
   "cell_type": "code",
   "execution_count": 4,
   "id": "3f0d0137-52b0-47a8-81a8-11a90a010798",
   "metadata": {},
   "outputs": [],
   "source": [
    "# here is the question; type over this to ask something new\n",
    "\n",
    "question = \"\"\"\n",
    "Please explain what this code does and why:\n",
    "yield from {book.get(\"author\") for book in books if book.get(\"author\")}\n",
    "\"\"\""
   ]
  },
  {
   "cell_type": "markdown",
   "id": "4a98343d-00ac-4b41-bcd5-5d58fc38828a",
   "metadata": {},
   "source": [
    "Using GPT-4o-mini"
   ]
  },
  {
   "cell_type": "code",
   "execution_count": 5,
   "id": "60ce7000-a4a5-4cce-a261-e75ef45063b4",
   "metadata": {},
   "outputs": [
    {
     "name": "stdout",
     "output_type": "stream",
     "text": [
      "API key looks good so far\n"
     ]
    }
   ],
   "source": [
    "# Initialize and constants\n",
    "\n",
    "load_dotenv(override=True)\n",
    "api_key = os.getenv('OPENAI_API_KEY')\n",
    "\n",
    "if api_key and api_key.startswith('sk-proj-') and len(api_key)>10:\n",
    "    print(\"API key looks good so far\")\n",
    "else:\n",
    "    print(\"There might be a problem with your API key? Please visit the troubleshooting notebook!\")\n",
    "    \n",
    "MODEL = MODEL_GPT\n",
    "openai = OpenAI()"
   ]
  },
  {
   "cell_type": "code",
   "execution_count": 7,
   "id": "6cf297e8-f75d-4515-adcf-01d5bd5adcd9",
   "metadata": {},
   "outputs": [],
   "source": [
    "system_prompt = \"\"\"\n",
    "You are a highly intelligent and expert code-solving assistant. Your primary responsibilities are:\n",
    "1. **Solve coding problems:** Provide efficient, well-structured, and maintainable code solutions to programming tasks or questions.\n",
    "2. **Explain solutions clearly:** Break down the logic, approach, and steps of your solution in simple, easy-to-understand terms, catering to the user's level of expertise.\n",
    "3. **Offer improvements and alternatives:** Suggest optimizations, alternative approaches, or best practices when applicable.\n",
    "4. **Focus on clarity and correctness:** Ensure the code is accurate, adheres to language-specific conventions, and is easily understandable by developers.\n",
    "\n",
    "When solving coding problems, do the following:\n",
    "- Ask clarifying questions if the task is unclear.\n",
    "- Provide complete, error-free code with explanations.\n",
    "- Use examples to illustrate how the code works when needed.\n",
    "\n",
    "When explaining, prioritize clarity and structure:\n",
    "- Use clear and concise language.\n",
    "- Highlight the purpose of each code section and the logic behind it.\n",
    "\n",
    "You are patient, polite, and adaptive to the user's needs, whether they are a beginner or an advanced programmer.\n",
    "\"\"\""
   ]
  },
  {
   "cell_type": "code",
   "execution_count": 11,
   "id": "43699e65-990c-4fa5-958b-ef1a5f779379",
   "metadata": {},
   "outputs": [],
   "source": [
    "# with stream ON\n",
    "def code_explainer(prompt):\n",
    "    stream = openai.chat.completions.create(\n",
    "        model=MODEL,\n",
    "        messages=[\n",
    "            {\"role\": \"system\", \"content\": system_prompt},\n",
    "            {\"role\": \"user\", \"content\": prompt}\n",
    "          ],\n",
    "        stream=True\n",
    "    )\n",
    "    \n",
    "    response = \"\"\n",
    "    display_handle = display(Markdown(\"\"), display_id=True)\n",
    "    for chunk in stream:\n",
    "        response += chunk.choices[0].delta.content or ''\n",
    "        response = response.replace(\"```\",\"\").replace(\"markdown\", \"\")\n",
    "        update_display(Markdown(response), display_id=display_handle.display_id)"
   ]
  },
  {
   "cell_type": "code",
   "execution_count": 12,
   "id": "2c0538a9-737c-48e9-851e-400102c0e4df",
   "metadata": {},
   "outputs": [
    {
     "data": {
      "text/markdown": [
       "This line of code is using a combination of a set comprehension and the `yield from` statement in Python. Let's break it down to understand what it does and why.\n",
       "\n",
       "### Explanation\n",
       "\n",
       "1. **Set Comprehension**:\n",
       "    python\n",
       "    {book.get(\"author\") for book in books if book.get(\"author\")}\n",
       "    \n",
       "\n",
       "   - `books`: This is expected to be an iterable (like a list) of dictionaries where each dictionary represents a book.\n",
       "   - `book.get(\"author\")`: This retrieves the value associated with the key `\"author\"` from each `book` dictionary. If the key does not exist, it returns `None`.\n",
       "   - `if book.get(\"author\")`: This is a filtering condition that ensures only books that have a valid (non-`None`) `\"author\"` value are included in the set.\n",
       "   - **Purpose of the Set Comprehension**: The entire expression creates a set of authors from the `books` list, ensuring that each author is unique (since sets do not allow duplicate values). \n",
       "\n",
       "2. **Yielding Values**:\n",
       "    python\n",
       "    yield from ...\n",
       "    \n",
       "\n",
       "   - `yield from`: This is a special statement in Python that is used within a generator function to yield all values from an iterable, allowing the generator to delegate part of its operations to another generator or iterable.\n",
       "   - By using `yield from`, the function will yield each item from the resulting set of authors one by one instead of yielding the entire set at once.\n",
       "\n",
       "### Complete Function Context\n",
       "\n",
       "This line of code is likely inside a generator function. Here’s how it might look in context:\n",
       "\n",
       "python\n",
       "def get_unique_authors(books):\n",
       "    yield from {book.get(\"author\") for book in books if book.get(\"author\")}\n",
       "\n",
       "\n",
       "In this case, when `get_unique_authors(books)` is called, it will yield each unique author found in the `books` collection.\n",
       "\n",
       "### Example\n",
       "\n",
       "Let’s say we have the following list of book dictionaries:\n",
       "\n",
       "python\n",
       "books = [\n",
       "    {\"title\": \"Book 1\", \"author\": \"Author A\"},\n",
       "    {\"title\": \"Book 2\", \"author\": \"Author B\"},\n",
       "    {\"title\": \"Book 3\", \"author\": None},\n",
       "    {\"title\": \"Book 4\", \"author\": \"Author A\"},\n",
       "    {\"title\": \"Book 5\", \"author\": \"Author C\"}\n",
       "]\n",
       "\n",
       "\n",
       "Calling `get_unique_authors(books)` would yield:\n",
       "\n",
       "- \"Author A\"\n",
       "- \"Author B\"\n",
       "- \"Author C\"\n",
       "\n",
       "The duplicates are automatically filtered out due to the properties of a set.\n",
       "\n",
       "### Summary\n",
       "\n",
       "In summary, this line of code efficiently creates a generator that yields unique authors from a list of book dictionaries, ignoring any books that do not specify an author. It's a concise and Pythonic way to handle the task of collecting unique authors from potentially incomplete data."
      ],
      "text/plain": [
       "<IPython.core.display.Markdown object>"
      ]
     },
     "metadata": {},
     "output_type": "display_data"
    }
   ],
   "source": [
    "code_explainer(question)"
   ]
  },
  {
   "cell_type": "markdown",
   "id": "f3dd64ed-faf6-4ec6-88c3-84876c33e3a4",
   "metadata": {},
   "source": [
    "# Get Llama 3.2 to answer"
   ]
  },
  {
   "cell_type": "code",
   "execution_count": 13,
   "id": "cdd11c6e-8ea7-4d42-852d-949ba232abb7",
   "metadata": {},
   "outputs": [],
   "source": [
    "OLLAMA_API = \"http://localhost:11434/api/chat\"\n",
    "HEADERS = {\"Content-Type\": \"application/json\"}"
   ]
  },
  {
   "cell_type": "code",
   "execution_count": 49,
   "id": "193a1a3c-eb55-41bd-a9bf-f28180fc5d09",
   "metadata": {},
   "outputs": [],
   "source": [
    "def code_explainer_ollama(question):\n",
    "    # Prepare the payload with the generated prompt\n",
    "    payload = {\n",
    "        \"model\": MODEL_LLAMA,\n",
    "        \"messages\": [{\"role\": \"user\", \"content\": question}],\n",
    "        \"stream\": False\n",
    "    }\n",
    "    \n",
    "    # Make the API request\n",
    "    response = requests.post(OLLAMA_API, json=payload, headers=HEADERS)\n",
    "    \n",
    "    # Return the summary from the response\n",
    "    return response.json().get('message', {}).get('content', \"No content found.\")\n"
   ]
  },
  {
   "cell_type": "code",
   "execution_count": 50,
   "id": "7d55b381-fab0-4ea9-a52b-45c7243c40df",
   "metadata": {},
   "outputs": [],
   "source": [
    "def code_explainer_ollama_display(question):\n",
    "    response = code_explainer_ollama(question)\n",
    "    display(Markdown(response))"
   ]
  },
  {
   "cell_type": "code",
   "execution_count": 51,
   "id": "3d559030-4710-45f1-a282-4381851be3a3",
   "metadata": {},
   "outputs": [
    {
     "data": {
      "text/markdown": [
       "This line of code is written in Python and utilizes a feature called \"yield from\" which was introduced in Python 3.3.\n",
       "\n",
       "Let's break it down:\n",
       "\n",
       "- `for` loop: This will iterate over each item (in this case, dictionaries) in the list or iterable that follows.\n",
       "- `{...}`: This defines a generator expression, also known as a dictionary comprehension. It takes an iterable (a list of books) and uses a loop to create a new iterable.\n",
       "- `book.get(\"author\")`: This is used within the loop to extract a value from each book dictionary. The `.get()` method is used to avoid a KeyError in case the key does not exist in the dictionary.\n",
       "- `yield from`: This keyword allows you to delegate parts of your generator's logic to other iterables. It means that instead of generating values directly, this part of your code will delegate them to the iterable specified.\n",
       "\n",
       "Putting it all together, this line of code is doing the following:\n",
       "\n",
       "- For each book in the list of books:\n",
       "  - Extracts the author from the dictionary.\n",
       "  - Yields (makes available to the loop) that author if it exists.\n",
       "  \n",
       "This can be seen as a simplified version of the following for loop:\n",
       "\n",
       "```python\n",
       "for book in books:\n",
       "    for author in book.get(\"author\"):\n",
       "        yield author\n",
       "```\n",
       "\n",
       "However, using `yield from` is generally considered better practice because it's more readable and allows you to easily delegate other tasks.\n",
       "\n",
       "Here's an example use case for this code snippet. Let's say we have a function that takes in a list of books and returns the authors:\n",
       "\n",
       "```python\n",
       "def get_authors(books):\n",
       "    # Here, you'd put your original logic (which is very similar to what's inside yield from)\n",
       "    return {book.get(\"author\") for book in books if book.get(\"author\")}\n",
       "\n",
       "books = [\n",
       "    {\"title\": \"Book1\", \"author\": \"Author1\"},\n",
       "    {\"title\": \"Book2\"},\n",
       "    {\"title\": \"Book3\", \"author\": \"Author2\"}\n",
       "]\n",
       "\n",
       "authors = get_authors(books)\n",
       "for author in authors:\n",
       "    print(author)\n",
       "```\n",
       "\n",
       "This would output:\n",
       "\n",
       "```\n",
       "Author1\n",
       "Author2\n",
       "```"
      ],
      "text/plain": [
       "<IPython.core.display.Markdown object>"
      ]
     },
     "metadata": {},
     "output_type": "display_data"
    }
   ],
   "source": [
    "code_explainer_ollama_display(question)"
   ]
  },
  {
   "cell_type": "code",
   "execution_count": null,
   "id": "1f06d89b-3bd0-447a-b259-f6d72330be68",
   "metadata": {},
   "outputs": [],
   "source": []
  }
 ],
 "metadata": {
  "kernelspec": {
   "display_name": "Python 3 (ipykernel)",
   "language": "python",
   "name": "python3"
  },
  "language_info": {
   "codemirror_mode": {
    "name": "ipython",
    "version": 3
   },
   "file_extension": ".py",
   "mimetype": "text/x-python",
   "name": "python",
   "nbconvert_exporter": "python",
   "pygments_lexer": "ipython3",
   "version": "3.11.11"
  }
 },
 "nbformat": 4,
 "nbformat_minor": 5
}
