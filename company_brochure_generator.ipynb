{
 "cells": [
  {
   "cell_type": "markdown",
   "id": "91c492be-9a00-47af-b1f3-61b5859ace3d",
   "metadata": {},
   "source": [
    "This is a program to create brochure from a company website in several languages. I will explain several function that involved in this program\n",
    "-"
   ]
  },
  {
   "cell_type": "code",
   "execution_count": 12,
   "id": "4f9f55c4-3a66-4c6e-9a49-fa5d728bde1d",
   "metadata": {},
   "outputs": [],
   "source": [
    "# imports\n",
    "# If these fail, please check you're running from an 'activated' environment with (llms) in the command prompt\n",
    "\n",
    "import os\n",
    "import requests\n",
    "import json\n",
    "from typing import List\n",
    "from dotenv import load_dotenv\n",
    "from bs4 import BeautifulSoup\n",
    "from IPython.display import Markdown, display, update_display\n",
    "from openai import OpenAI"
   ]
  },
  {
   "cell_type": "code",
   "execution_count": 13,
   "id": "19a7bc74-2b86-4bc1-964d-e81b4835a673",
   "metadata": {},
   "outputs": [
    {
     "name": "stdout",
     "output_type": "stream",
     "text": [
      "API key looks good so far\n"
     ]
    }
   ],
   "source": [
    "# Initialize and constants\n",
    "\n",
    "load_dotenv(override=True)\n",
    "api_key = os.getenv('OPENAI_API_KEY')\n",
    "\n",
    "if api_key and api_key.startswith('sk-proj-') and len(api_key)>10:\n",
    "    print(\"API key looks good so far\")\n",
    "else:\n",
    "    print(\"There might be a problem with your API key? Please visit the troubleshooting notebook!\")\n",
    "    \n",
    "MODEL = 'gpt-4o-mini'\n",
    "openai = OpenAI()"
   ]
  },
  {
   "cell_type": "code",
   "execution_count": 14,
   "id": "6495d1c5-0677-48dc-bc34-38da180190d1",
   "metadata": {},
   "outputs": [],
   "source": [
    "# A class to represent a Webpage\n",
    "\n",
    "# Some websites need you to use proper headers when fetching them:\n",
    "headers = {\n",
    " \"User-Agent\": \"Mozilla/5.0 (Windows NT 10.0; Win64; x64) AppleWebKit/537.36 (KHTML, like Gecko) Chrome/117.0.0.0 Safari/537.36\"\n",
    "}\n",
    "\n",
    "class Website:\n",
    "    \"\"\"\n",
    "    A utility class to represent a Website that we have scraped, now with links\n",
    "    \"\"\"\n",
    "\n",
    "    def __init__(self, url):\n",
    "        self.url = url\n",
    "        response = requests.get(url, headers=headers)\n",
    "        self.body = response.content\n",
    "        soup = BeautifulSoup(self.body, 'html.parser')\n",
    "        self.title = soup.title.string if soup.title else \"No title found\"\n",
    "        if soup.body:\n",
    "            for irrelevant in soup.body([\"script\", \"style\", \"img\", \"input\"]):\n",
    "                irrelevant.decompose()\n",
    "            self.text = soup.body.get_text(separator=\"\\n\", strip=True)\n",
    "        else:\n",
    "            self.text = \"\"\n",
    "        links = [link.get('href') for link in soup.find_all('a')]\n",
    "        self.links = [link for link in links if link]\n",
    "\n",
    "    def get_contents(self):\n",
    "        return f\"Webpage Title:\\n{self.title}\\nWebpage Contents:\\n{self.text}\\n\\n\""
   ]
  },
  {
   "cell_type": "markdown",
   "id": "0bcc5fd0-9891-47db-b893-5d64e6b3ce95",
   "metadata": {},
   "source": [
    "*First Step*\n",
    "Get relevant link that can be included in the brochure, using OPENAI"
   ]
  },
  {
   "cell_type": "code",
   "execution_count": 15,
   "id": "da14f3c1-2e9a-48b5-abd0-966a5892ee22",
   "metadata": {},
   "outputs": [],
   "source": [
    "# SYSTEM PROMPT\n",
    "# one shot prompting on this system prompt\n",
    "link_system_prompt = \"You are provided with a list of links found on a webpage. \\\n",
    "You are able to decide which of the links would be most relevant to include in a brochure about the company, \\\n",
    "such as links to an About page, or a Company page, or Careers/Jobs pages.\\n\"\n",
    "link_system_prompt += \"You should respond in JSON as in this example:\"\n",
    "link_system_prompt += \"\"\"\n",
    "{\n",
    "    \"links\": [\n",
    "        {\"type\": \"about page\", \"url\": \"https://full.url/goes/here/about\"},\n",
    "        {\"type\": \"careers page\": \"url\": \"https://another.full.url/careers\"}\n",
    "    ]\n",
    "}\n",
    "\"\"\""
   ]
  },
  {
   "cell_type": "code",
   "execution_count": 16,
   "id": "a1af1bcc-3696-4357-8b8e-e017d94e925f",
   "metadata": {},
   "outputs": [],
   "source": [
    "# USER PROMPT function\n",
    "def get_links_user_prompt(website):\n",
    "    user_prompt = f\"Here is the list of links on the website of {website.url} - \"\n",
    "    user_prompt += \"please decide which of these are relevant web links for a brochure about the company, respond with the full https URL in JSON format. \\\n",
    "Do not include Terms of Service, Privacy, email links.\\n\"\n",
    "    user_prompt += \"Links (some might be relative links):\\n\"\n",
    "    user_prompt += \"\\n\".join(website.links)\n",
    "    return user_prompt"
   ]
  },
  {
   "cell_type": "code",
   "execution_count": 17,
   "id": "72e4d821-06ec-49aa-9ea9-e9bad0aed36c",
   "metadata": {},
   "outputs": [],
   "source": [
    "def get_links(url):\n",
    "    website = Website(url)\n",
    "    response = openai.chat.completions.create(\n",
    "        model=MODEL,\n",
    "        messages=[\n",
    "            {\"role\": \"system\", \"content\": link_system_prompt},\n",
    "            {\"role\": \"user\", \"content\": get_links_user_prompt(website)}\n",
    "      ],\n",
    "        response_format={\"type\": \"json_object\"}\n",
    "    )\n",
    "    result = response.choices[0].message.content\n",
    "    return json.loads(result)"
   ]
  },
  {
   "cell_type": "code",
   "execution_count": null,
   "id": "792e1557-75ef-4f53-aa5d-fd5ce4cb3e27",
   "metadata": {},
   "outputs": [],
   "source": [
    "get_links(\"https://www.cmu.edu/iii/\")"
   ]
  },
  {
   "cell_type": "markdown",
   "id": "7a3caced-8d31-4489-a93c-44a093926301",
   "metadata": {},
   "source": [
    "*2nd STEP*\n",
    "Get all detail from link that we've got"
   ]
  },
  {
   "cell_type": "code",
   "execution_count": 21,
   "id": "f8b69ddf-5a78-43f2-a8c8-a8ee6902804a",
   "metadata": {},
   "outputs": [],
   "source": [
    "def get_all_details(url):\n",
    "    result = \"Landing page:\\n\"\n",
    "    result += Website(url).get_contents()\n",
    "    links = get_links(url)\n",
    "    print(\"Found links:\", links)\n",
    "    for link in links[\"links\"]:\n",
    "        result += f\"\\n\\n{link['type']}\\n\"\n",
    "        result += Website(link[\"url\"]).get_contents()\n",
    "    return result"
   ]
  },
  {
   "cell_type": "code",
   "execution_count": null,
   "id": "71db4ade-5826-4433-b5bb-f098cc113699",
   "metadata": {},
   "outputs": [],
   "source": [
    "*3rd STEP*\n",
    "call OPENAI to create brochure from the detail"
   ]
  },
  {
   "cell_type": "code",
   "execution_count": 22,
   "id": "763056af-d574-48b1-af7e-26a6baa61e91",
   "metadata": {},
   "outputs": [],
   "source": [
    "system_prompt = \"You are an assistant that analyzes the contents of several relevant pages from a company website \\\n",
    "and creates a short brochure about the company for prospective customers, investors and recruits. Respond in markdown.\\\n",
    "Include details of company culture, customers and careers/jobs if you have the information.\""
   ]
  },
  {
   "cell_type": "code",
   "execution_count": 28,
   "id": "197115b8-b5eb-4627-8576-808b63a5f01a",
   "metadata": {},
   "outputs": [],
   "source": [
    "def get_brochure_user_prompt(company_name, url, language):\n",
    "    user_prompt = f\"You are looking at a company called: {company_name}\\n\"\n",
    "    user_prompt += f\"\\n\\nBecause the audience in come from different region, you must create this brochure content in {language} languages, so the audience from that region can understand\\n\"\n",
    "    user_prompt += f\"Here are the contents of its landing page and other relevant pages; use this information to build a short brochure of the company in markdown.\\n\"\n",
    "    user_prompt += get_all_details(url)\n",
    "    user_prompt = user_prompt[:5_000] # Truncate if more than 5,000 characters\n",
    "    return user_prompt"
   ]
  },
  {
   "cell_type": "code",
   "execution_count": null,
   "id": "b62f5bf6-410c-4f7a-bb41-064ce3abcdeb",
   "metadata": {},
   "outputs": [],
   "source": [
    "get_brochure_user_prompt(\"HuggingFace\", \"https://huggingface.co\", \"English\")"
   ]
  },
  {
   "cell_type": "code",
   "execution_count": 30,
   "id": "8d7129b2-95ae-4209-bea7-6245c60a025b",
   "metadata": {},
   "outputs": [],
   "source": [
    "# ordinary prompt\n",
    "def create_brochure(company_name, url, language):\n",
    "    response = openai.chat.completions.create(\n",
    "        model=MODEL,\n",
    "        messages=[\n",
    "            {\"role\": \"system\", \"content\": system_prompt},\n",
    "            {\"role\": \"user\", \"content\": get_brochure_user_prompt(company_name, url, language)}\n",
    "          ],\n",
    "    )\n",
    "    result = response.choices[0].message.content\n",
    "    display(Markdown(result))"
   ]
  },
  {
   "cell_type": "code",
   "execution_count": 31,
   "id": "363c35bd-2614-4ff0-94e7-0651e539100a",
   "metadata": {},
   "outputs": [],
   "source": [
    "# with stream ON\n",
    "def stream_brochure(company_name, url, language):\n",
    "    stream = openai.chat.completions.create(\n",
    "        model=MODEL,\n",
    "        messages=[\n",
    "            {\"role\": \"system\", \"content\": system_prompt},\n",
    "            {\"role\": \"user\", \"content\": get_brochure_user_prompt(company_name, url, language)}\n",
    "          ],\n",
    "        stream=True\n",
    "    )\n",
    "    \n",
    "    response = \"\"\n",
    "    display_handle = display(Markdown(\"\"), display_id=True)\n",
    "    for chunk in stream:\n",
    "        response += chunk.choices[0].delta.content or ''\n",
    "        response = response.replace(\"```\",\"\").replace(\"markdown\", \"\")\n",
    "        update_display(Markdown(response), display_id=display_handle.display_id)"
   ]
  },
  {
   "cell_type": "code",
   "execution_count": 36,
   "id": "d558f025-69d1-4db3-875e-8f900f75d236",
   "metadata": {},
   "outputs": [
    {
     "name": "stdout",
     "output_type": "stream",
     "text": [
      "Found links: {'links': [{'type': 'about page', 'url': 'https://www.cmu.edu/iii/about/news/index.html'}, {'type': 'graduate programs page', 'url': 'https://www.cmu.edu/iii/graduate-programs/miips.html#toolkit'}, {'type': 'admissions page', 'url': 'https://www.cmu.edu/iii/admissions/miips.html#current-students'}, {'type': 'careers page', 'url': 'https://www.cmu.edu/iii/about/news/2023/alumni-spotlight-product-manager-internal-systems.html'}, {'type': 'careers page', 'url': 'https://www.cmu.edu/iii/about/news/2022/alumni-spotlight-manchit-rajani-service-design-banking.html'}, {'type': 'news page', 'url': 'https://www.cmu.edu/iii/about/news/2023/changemaker-design-thinking-pittsburgh.html'}, {'type': 'news page', 'url': 'https://www.cmu.edu/iii/about/news/2023/healthcare-innovation-commercialization.html'}]}\n"
     ]
    },
    {
     "data": {
      "text/markdown": [
       "\n",
       "# MIIPS Brochure\n",
       "\n",
       "## Tungkol sa MIIPS\n",
       "Ang **Master of Integrated Innovation for Products & Services (MIIPS)** mula sa **Integrated Innovation Institute ng Carnegie Mellon University** ay isang programa na naglalayong sanayin ang susunod na henerasyon ng mga inobador, disruptor, at mga tagapagbago sa mundo. Sa programang ito, matututuhan mong harapin ang pinakamalaking hamon ng industriya at lipunan kasabay ng pagsasanib ng teknolohiya at sangkatauhan.\n",
       "\n",
       "## Kultura ng Kumpanya\n",
       "Sa MIIPS, ang inobasyon ay nagmumula sa mga tao, hindi sa mga produkto. Ang bawat estudyante ay nakikipagtulungan kasama ang mga pinakamahusay na inhinyero, propesyonal sa negosyo, at mga designer upang lumampas sa kanilang mga disiplina at makipagtulungan sa iba’t ibang larangan. Ang aming layunin ay bumuo ng mga one-of-a-kind solutions na may positibong epekto sa komunidad.\n",
       "\n",
       "## Mga Kliyente\n",
       "Ang mga graduate ng MIIPS ay tinatanggap sa mga nangungunang kumpanya sa iba’t ibang industriya, kabilang ang:\n",
       "- Disney\n",
       "- JP Morgan Chase & Co\n",
       "- Canon\n",
       "- Honda\n",
       "- Volvo\n",
       "\n",
       "## Mga Karera at Oportunidad\n",
       "Ang MIIPS ay nag-aalok ng dalawang format ng programa:\n",
       "- **9 Buwan na Format:** Para sa mga may karanasang propesyonal, nagsisimula ng Agosto at nagtatapos ng Mayo.\n",
       "- **16 Buwan na Format:** Para sa mga nagnanais ng karagdagang karanasan sa trabaho, nagsisimula ng Agosto at may summer internship.\n",
       "\n",
       "### Mga Resulta sa Karera\n",
       "- **Median Base Salary:** $112,000\n",
       "- **88% ng mga nagtapos ay umamin ng trabaho sa loob ng anim na buwan pagkatapos ng graduation.**\n",
       "\n",
       "### Mga Posibleng Posisyon\n",
       "- Product Manager\n",
       "- UX Designer\n",
       "- Innovation Engineer\n",
       "- Mechanical Design Engineer\n",
       "- Senior Product Analyst\n",
       "\n",
       "## Mag-apply Ngayon!\n",
       "Huwag palampasin ang pagkakataong maging bahagi ng makabagong programang ito. Magsimula ng iyong aplikasyon para sa MIIPS bago ang **January 20, 2025** at maging bahagi ng isang malakas na network ng mga inobador na may kakayahang magdulot ng tunay na pagbabago.\n",
       "\n",
       "### Makipag-ugnayan\n",
       "Ikaw ba ay handa nang itulak ang hangganan ng mga posibilidad? Kumunekta sa kasalukuyang MIIPS na estudyante, dumalo sa isang virtual info session, o humiling ng higit pang impormasyon sa aming website!\n",
       "\n",
       "**Integrated Innovation Institute - Carnegie Mellon University**\n",
       "\n"
      ],
      "text/plain": [
       "<IPython.core.display.Markdown object>"
      ]
     },
     "metadata": {},
     "output_type": "display_data"
    }
   ],
   "source": [
    "stream_brochure(\"MIIPS\", \"https://www.cmu.edu/iii/graduate-programs/miips/index.html\", \"Tagalog\")"
   ]
  },
  {
   "cell_type": "code",
   "execution_count": null,
   "id": "4e463cac-d118-4058-8176-313d49178f2b",
   "metadata": {},
   "outputs": [],
   "source": []
  }
 ],
 "metadata": {
  "kernelspec": {
   "display_name": "Python 3 (ipykernel)",
   "language": "python",
   "name": "python3"
  },
  "language_info": {
   "codemirror_mode": {
    "name": "ipython",
    "version": 3
   },
   "file_extension": ".py",
   "mimetype": "text/x-python",
   "name": "python",
   "nbconvert_exporter": "python",
   "pygments_lexer": "ipython3",
   "version": "3.11.11"
  }
 },
 "nbformat": 4,
 "nbformat_minor": 5
}
